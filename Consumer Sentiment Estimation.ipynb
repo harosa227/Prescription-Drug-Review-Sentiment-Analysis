{
 "cells": [
  {
   "cell_type": "code",
   "execution_count": 1,
   "id": "b23cfdc8",
   "metadata": {},
   "outputs": [],
   "source": [
    "#In this notebook, we will be working with a file that contains reviews for prescription drugs, followed by a rating on a scale\n",
    "#of 1 - 10. This data is very messy, so we'll be doing some deep cleaning on it before using it to try and predict customer\n",
    "#drug ratings based on the review they provided.\n",
    "\n",
    "#Original dataset can be found here: https://www.kaggle.com/datasets/masoudnickparvar/brain-tumor-mri-dataset"
   ]
  },
  {
   "cell_type": "code",
   "execution_count": 2,
   "id": "2c08e18b",
   "metadata": {},
   "outputs": [],
   "source": [
    "#This tab will be where we import all of our modules\n",
    "\n",
    "import pandas as pd\n",
    "from sklearn.feature_extraction.text import re\n",
    "from sklearn.feature_extraction.text import TfidfVectorizer\n",
    "from sklearn.linear_model import SGDClassifier\n",
    "from sklearn.metrics import r2_score\n",
    "from sklearn.model_selection import train_test_split\n",
    "import numpy as np\n",
    "from sklearn.metrics import accuracy_score\n",
    "from scipy.sparse import hstack\n",
    "\n",
    "import sklearn.decomposition"
   ]
  },
  {
   "cell_type": "code",
   "execution_count": 3,
   "id": "c0024c6e",
   "metadata": {
    "scrolled": true
   },
   "outputs": [
    {
     "name": "stdout",
     "output_type": "stream",
     "text": [
      "(205764, 7)\n"
     ]
    },
    {
     "data": {
      "text/html": [
       "<div>\n",
       "<style scoped>\n",
       "    .dataframe tbody tr th:only-of-type {\n",
       "        vertical-align: middle;\n",
       "    }\n",
       "\n",
       "    .dataframe tbody tr th {\n",
       "        vertical-align: top;\n",
       "    }\n",
       "\n",
       "    .dataframe thead th {\n",
       "        text-align: right;\n",
       "    }\n",
       "</style>\n",
       "<table border=\"1\" class=\"dataframe\">\n",
       "  <thead>\n",
       "    <tr style=\"text-align: right;\">\n",
       "      <th></th>\n",
       "      <th>Unnamed: 0</th>\n",
       "      <th>drugName</th>\n",
       "      <th>condition</th>\n",
       "      <th>review</th>\n",
       "      <th>rating</th>\n",
       "      <th>date</th>\n",
       "      <th>usefulCount</th>\n",
       "    </tr>\n",
       "  </thead>\n",
       "  <tbody>\n",
       "    <tr>\n",
       "      <th>0</th>\n",
       "      <td>206461</td>\n",
       "      <td>Valsartan</td>\n",
       "      <td>Left Ventricular Dysfunction</td>\n",
       "      <td>\"It has no side effect, I take it in combinati...</td>\n",
       "      <td>9.0</td>\n",
       "      <td>2012-05-20</td>\n",
       "      <td>27.0</td>\n",
       "    </tr>\n",
       "    <tr>\n",
       "      <th>1</th>\n",
       "      <td>95260</td>\n",
       "      <td>Guanfacine</td>\n",
       "      <td>ADHD</td>\n",
       "      <td>\"My son is halfway through his fourth week of ...</td>\n",
       "      <td>NaN</td>\n",
       "      <td>NaT</td>\n",
       "      <td>NaN</td>\n",
       "    </tr>\n",
       "    <tr>\n",
       "      <th>2</th>\n",
       "      <td>We have tried many different medications and s...</td>\n",
       "      <td>8</td>\n",
       "      <td>2010-04-27 00:00:00</td>\n",
       "      <td>192</td>\n",
       "      <td>NaN</td>\n",
       "      <td>NaT</td>\n",
       "      <td>NaN</td>\n",
       "    </tr>\n",
       "    <tr>\n",
       "      <th>3</th>\n",
       "      <td>92703</td>\n",
       "      <td>Lybrel</td>\n",
       "      <td>Birth Control</td>\n",
       "      <td>\"I used to take another oral contraceptive, wh...</td>\n",
       "      <td>NaN</td>\n",
       "      <td>NaT</td>\n",
       "      <td>NaN</td>\n",
       "    </tr>\n",
       "    <tr>\n",
       "      <th>4</th>\n",
       "      <td>The positive side is that I didn&amp;#039;t have a...</td>\n",
       "      <td>5</td>\n",
       "      <td>2009-12-14 00:00:00</td>\n",
       "      <td>17</td>\n",
       "      <td>NaN</td>\n",
       "      <td>NaT</td>\n",
       "      <td>NaN</td>\n",
       "    </tr>\n",
       "  </tbody>\n",
       "</table>\n",
       "</div>"
      ],
      "text/plain": [
       "                                          Unnamed: 0    drugName  \\\n",
       "0                                             206461   Valsartan   \n",
       "1                                              95260  Guanfacine   \n",
       "2  We have tried many different medications and s...           8   \n",
       "3                                              92703      Lybrel   \n",
       "4  The positive side is that I didn&#039;t have a...           5   \n",
       "\n",
       "                      condition  \\\n",
       "0  Left Ventricular Dysfunction   \n",
       "1                          ADHD   \n",
       "2           2010-04-27 00:00:00   \n",
       "3                 Birth Control   \n",
       "4           2009-12-14 00:00:00   \n",
       "\n",
       "                                              review  rating       date  \\\n",
       "0  \"It has no side effect, I take it in combinati...     9.0 2012-05-20   \n",
       "1  \"My son is halfway through his fourth week of ...     NaN        NaT   \n",
       "2                                                192     NaN        NaT   \n",
       "3  \"I used to take another oral contraceptive, wh...     NaN        NaT   \n",
       "4                                                 17     NaN        NaT   \n",
       "\n",
       "   usefulCount  \n",
       "0         27.0  \n",
       "1          NaN  \n",
       "2          NaN  \n",
       "3          NaN  \n",
       "4          NaN  "
      ]
     },
     "execution_count": 3,
     "metadata": {},
     "output_type": "execute_result"
    }
   ],
   "source": [
    "#We can see from our preview below that there is a lot of data that isn't quite useful for our purposes. As such, we'll remove\n",
    "#these columns.\n",
    "\n",
    "drug_reviews = pd.read_excel(r\"C:\\Users\\hecto\\OneDrive\\Documents\\Jupyter Notebook\\Practice Code\\Datasets\\drugsCom_raw\\drugsComTrain_raw_short.xlsx\")\n",
    "print(drug_reviews.shape)\n",
    "drug_reviews.head()"
   ]
  },
  {
   "cell_type": "code",
   "execution_count": 4,
   "id": "afa327f3",
   "metadata": {},
   "outputs": [
    {
     "data": {
      "text/html": [
       "<div>\n",
       "<style scoped>\n",
       "    .dataframe tbody tr th:only-of-type {\n",
       "        vertical-align: middle;\n",
       "    }\n",
       "\n",
       "    .dataframe tbody tr th {\n",
       "        vertical-align: top;\n",
       "    }\n",
       "\n",
       "    .dataframe thead th {\n",
       "        text-align: right;\n",
       "    }\n",
       "</style>\n",
       "<table border=\"1\" class=\"dataframe\">\n",
       "  <thead>\n",
       "    <tr style=\"text-align: right;\">\n",
       "      <th></th>\n",
       "      <th>drugName</th>\n",
       "      <th>review</th>\n",
       "      <th>rating</th>\n",
       "    </tr>\n",
       "  </thead>\n",
       "  <tbody>\n",
       "    <tr>\n",
       "      <th>0</th>\n",
       "      <td>Valsartan</td>\n",
       "      <td>\"It has no side effect, I take it in combinati...</td>\n",
       "      <td>9.0</td>\n",
       "    </tr>\n",
       "    <tr>\n",
       "      <th>1</th>\n",
       "      <td>Guanfacine</td>\n",
       "      <td>\"My son is halfway through his fourth week of ...</td>\n",
       "      <td>NaN</td>\n",
       "    </tr>\n",
       "    <tr>\n",
       "      <th>2</th>\n",
       "      <td>8</td>\n",
       "      <td>192</td>\n",
       "      <td>NaN</td>\n",
       "    </tr>\n",
       "    <tr>\n",
       "      <th>3</th>\n",
       "      <td>Lybrel</td>\n",
       "      <td>\"I used to take another oral contraceptive, wh...</td>\n",
       "      <td>NaN</td>\n",
       "    </tr>\n",
       "    <tr>\n",
       "      <th>4</th>\n",
       "      <td>5</td>\n",
       "      <td>17</td>\n",
       "      <td>NaN</td>\n",
       "    </tr>\n",
       "  </tbody>\n",
       "</table>\n",
       "</div>"
      ],
      "text/plain": [
       "     drugName                                             review  rating\n",
       "0   Valsartan  \"It has no side effect, I take it in combinati...     9.0\n",
       "1  Guanfacine  \"My son is halfway through his fourth week of ...     NaN\n",
       "2           8                                                192     NaN\n",
       "3      Lybrel  \"I used to take another oral contraceptive, wh...     NaN\n",
       "4           5                                                 17     NaN"
      ]
     },
     "execution_count": 4,
     "metadata": {},
     "output_type": "execute_result"
    }
   ],
   "source": [
    "drug_reviews = drug_reviews.drop([\"Unnamed: 0\", \"condition\", \"date\", \"usefulCount\"], axis=1)\n",
    "drug_reviews.head()"
   ]
  },
  {
   "cell_type": "code",
   "execution_count": 5,
   "id": "57ffd135",
   "metadata": {},
   "outputs": [
    {
     "name": "stdout",
     "output_type": "stream",
     "text": [
      "The shape of the dataset after pre-processing is: (129453, 3)\n"
     ]
    },
    {
     "data": {
      "text/html": [
       "<div>\n",
       "<style scoped>\n",
       "    .dataframe tbody tr th:only-of-type {\n",
       "        vertical-align: middle;\n",
       "    }\n",
       "\n",
       "    .dataframe tbody tr th {\n",
       "        vertical-align: top;\n",
       "    }\n",
       "\n",
       "    .dataframe thead th {\n",
       "        text-align: right;\n",
       "    }\n",
       "</style>\n",
       "<table border=\"1\" class=\"dataframe\">\n",
       "  <thead>\n",
       "    <tr style=\"text-align: right;\">\n",
       "      <th></th>\n",
       "      <th>drugName</th>\n",
       "      <th>review</th>\n",
       "      <th>rating</th>\n",
       "    </tr>\n",
       "  </thead>\n",
       "  <tbody>\n",
       "    <tr>\n",
       "      <th>0</th>\n",
       "      <td>Valsartan</td>\n",
       "      <td>\"It has no side effect, I take it in combinati...</td>\n",
       "      <td>9.0</td>\n",
       "    </tr>\n",
       "    <tr>\n",
       "      <th>5</th>\n",
       "      <td>Ortho Evra</td>\n",
       "      <td>\"This is my first time using any form of birth...</td>\n",
       "      <td>8.0</td>\n",
       "    </tr>\n",
       "    <tr>\n",
       "      <th>6</th>\n",
       "      <td>Buprenorphine / naloxone</td>\n",
       "      <td>\"Suboxone has completely turned my life around...</td>\n",
       "      <td>9.0</td>\n",
       "    </tr>\n",
       "    <tr>\n",
       "      <th>7</th>\n",
       "      <td>Cialis</td>\n",
       "      <td>\"2nd day on 5mg started to work with rock hard...</td>\n",
       "      <td>2.0</td>\n",
       "    </tr>\n",
       "    <tr>\n",
       "      <th>8</th>\n",
       "      <td>Levonorgestrel</td>\n",
       "      <td>\"He pulled out, but he cummed a bit in me. I t...</td>\n",
       "      <td>1.0</td>\n",
       "    </tr>\n",
       "  </tbody>\n",
       "</table>\n",
       "</div>"
      ],
      "text/plain": [
       "                   drugName  \\\n",
       "0                 Valsartan   \n",
       "5                Ortho Evra   \n",
       "6  Buprenorphine / naloxone   \n",
       "7                    Cialis   \n",
       "8            Levonorgestrel   \n",
       "\n",
       "                                              review  rating  \n",
       "0  \"It has no side effect, I take it in combinati...     9.0  \n",
       "5  \"This is my first time using any form of birth...     8.0  \n",
       "6  \"Suboxone has completely turned my life around...     9.0  \n",
       "7  \"2nd day on 5mg started to work with rock hard...     2.0  \n",
       "8  \"He pulled out, but he cummed a bit in me. I t...     1.0  "
      ]
     },
     "execution_count": 5,
     "metadata": {},
     "output_type": "execute_result"
    }
   ],
   "source": [
    "#Now we have our three variables of interest! Next, we'll dorp columns which contain NaN values as these are not helpful for \n",
    "#training the model. Please note that the original dataset has over 200,000 rows, so we won't be doing much harm by trimming \n",
    "#the data.\n",
    "\n",
    "\n",
    "drug_reviews = drug_reviews.dropna()\n",
    "print(\"The shape of the dataset after pre-processing is: {}\".format(drug_reviews.shape))\n",
    "drug_reviews.head()\n",
    "\n",
    "#Any rows with NaN cells have now been dropped and we're still left with 143k rows of data. Some of these reviews feature\n",
    "#punctuation we do not need, and improperly processed symbols, such as an apostrophe appearing as &#039;. For this, we'll create\n",
    "#a function to try and remove the excess nose"
   ]
  },
  {
   "cell_type": "code",
   "execution_count": 6,
   "id": "e8374fa8",
   "metadata": {},
   "outputs": [
    {
     "name": "stdout",
     "output_type": "stream",
     "text": [
      "The shape of the dataset after pre-processing is: (60000, 4)\n"
     ]
    }
   ],
   "source": [
    "drug_reviews.drop(drug_reviews.index[60000:129453], inplace=True)\n",
    "drug_reviews.reset_index(inplace=True)\n",
    "print(\"The shape of the dataset after pre-processing is: {}\".format(drug_reviews.shape))"
   ]
  },
  {
   "cell_type": "code",
   "execution_count": 7,
   "id": "f0fb226d",
   "metadata": {},
   "outputs": [],
   "source": [
    "\n",
    "low_rating= [1.0, 2.0, 3.0, 4.0]\n",
    "moderate_rating = [5.0, 6.0, 7.0]\n",
    "high_rating = [8.0, 9.0, 10.0]\n",
    "\n",
    "# Replace matching ratings with -1\n",
    "drug_reviews.loc[drug_reviews['rating'].isin(low_rating), 'rating'] = -1\n",
    "\n",
    "# Replace matching ratings with 0\n",
    "drug_reviews.loc[drug_reviews['rating'].isin(moderate_rating), 'rating'] = 0\n",
    "\n",
    "# Replace remaining ratings with 1\n",
    "drug_reviews.loc[drug_reviews['rating'].isin(high_rating), 'rating'] = 1\n",
    "\n"
   ]
  },
  {
   "cell_type": "code",
   "execution_count": 8,
   "id": "39c75051",
   "metadata": {},
   "outputs": [],
   "source": [
    "drug_reviews['rating'] = drug_reviews['rating'].astype('category')"
   ]
  },
  {
   "cell_type": "code",
   "execution_count": 9,
   "id": "df05d012",
   "metadata": {},
   "outputs": [
    {
     "name": "stdout",
     "output_type": "stream",
     "text": [
      "Original Review:\n",
      "\"Abilify changed my life. There is hope. I was on Zoloft and Clonidine when I first started Abilify at the age of 15.. Zoloft for depression and Clondine to manage my complete rage. My moods were out of control. I was depressed and hopeless one second and then mean, irrational, and full of rage the next. My Dr. prescribed me 2mg of Abilify and from that point on I feel like I have been cured though I know I&#039;m not.. Bi-polar disorder is a constant battle. I know Abilify works for me because I have tried to get off it and lost complete control over my emotions. Went back on it and I was golden again.  I am on 5mg 2x daily. I am now 21 and better than I have ever been in the past. Only side effect is I like to eat a lot.\"\n",
      "\n",
      "Cleaned Review:\n",
      "Abilify changed my life There is hope I was on Zoloft and Clonidine when I first started Abilify at the age of Zoloft for depression and Clondine to manage my complete rage My moods were out of control I was depressed and hopeless one second and then mean irrational and full of rage the next My Dr prescribed me mg of Abilify and from that point on I feel like I have been cured though I know Im not Bipolar disorder is a constant battle I know Abilify works for me because I have tried to get off it and lost complete control over my emotions Went back on it and I was golden again I am on mg x daily I am now and better than I have ever been in the past Only side effect is I like to eat a lot\n"
     ]
    }
   ],
   "source": [
    "print(\"Original Review:\" + \"\\n\" + drug_reviews[\"review\"][5] + \"\\n\")\n",
    "\n",
    "\n",
    "def clean_data(review):\n",
    "    \n",
    "    no_punc = re.sub(r'[^\\w\\s]', '', review)\n",
    "    no_digits = ''.join([i for i in no_punc if not i.isdigit()])\n",
    "    no_dbl_space = re.sub(\"  \", \" \", no_digits)\n",
    "    return(no_dbl_space)\n",
    "\n",
    "drug_reviews[\"review\"] = drug_reviews[\"review\"].astype(str)\n",
    "drug_reviews[\"review\"] = drug_reviews[\"review\"].apply(clean_data)\n",
    "\n",
    "drug_reviews[\"drugName\"] = drug_reviews[\"drugName\"].astype(str)\n",
    "drug_reviews[\"drugName\"] = drug_reviews[\"drugName\"].apply(clean_data)\n",
    "\n",
    "print(\"Cleaned Review:\" + \"\\n\" + drug_reviews[\"review\"][5])\n",
    "\n",
    "#Success! Unnecessary noise has been removed from our text! Next, lets tokenize and vectorize our reviews for training"
   ]
  },
  {
   "cell_type": "code",
   "execution_count": 10,
   "id": "01a55a24",
   "metadata": {},
   "outputs": [],
   "source": [
    "#Now lets apply a TF-IDF transformation upon the reviews and build training and testing sets\n",
    "tf_idf = TfidfVectorizer(strip_accents=None, \n",
    "                        preprocessor=None, \n",
    "                        max_features=None)\n",
    "\n",
    "x = tf_idf.fit_transform(drug_reviews['review'])\n",
    "y = drug_reviews[\"rating\"]\n",
    "\n",
    "x_train, x_test, y_train, y_test = train_test_split(x, y, test_size=0.2)"
   ]
  },
  {
   "cell_type": "code",
   "execution_count": 11,
   "id": "99d45844",
   "metadata": {},
   "outputs": [
    {
     "name": "stdout",
     "output_type": "stream",
     "text": [
      "Logistic Regression Classifier Accuracy: 0.7589166666666667\n"
     ]
    }
   ],
   "source": [
    "#Finally, lets build a Logistic Regression model and see if it is sufficient to capture the complexity of the data\n",
    "from sklearn.linear_model import LogisticRegression\n",
    "lr = LogisticRegression(solver = \"sag\")\n",
    "lr.fit(x_train, y_train)\n",
    "predicted = lr.predict(x_test)\n",
    "print(\"Logistic Regression Classifier Accuracy: {}\".format(accuracy_score(predicted,y_test)))\n"
   ]
  },
  {
   "cell_type": "code",
   "execution_count": 12,
   "id": "bf0f59d3",
   "metadata": {},
   "outputs": [],
   "source": [
    "#Our model provides a fair degree of accuracy given the simplicity of the Logistic Regression model contrasted with the\n",
    "#complexity of natural language. Moreover, our model trains and deploys very rapidly, saving us computational resources\n",
    "#and time. However, lets see if we can get appreciably better results using a more complex model, and evaluate the tradeoff. "
   ]
  },
  {
   "cell_type": "code",
   "execution_count": 13,
   "id": "aa9c17ab",
   "metadata": {},
   "outputs": [
    {
     "name": "stdout",
     "output_type": "stream",
     "text": [
      "Neural Network Classifier Accuracy: 0.74025\n"
     ]
    }
   ],
   "source": [
    "import sklearn.neural_network\n",
    "\n",
    "myC = sklearn.neural_network.MLPClassifier(hidden_layer_sizes=(40,40), max_iter=400)\n",
    "myC.fit(x_train, y_train)\n",
    "predMLP = myC.predict(x_test)\n",
    "accuracy_score(predMLP, y_test)\n",
    "\n",
    "print(\"Neural Network Classifier Accuracy: {}\".format(accuracy_score(predMLP, y_test)))"
   ]
  },
  {
   "cell_type": "code",
   "execution_count": 14,
   "id": "eb5a4641",
   "metadata": {},
   "outputs": [],
   "source": [
    "#While you can't tell from viewing this notebook, I've experimented extensively with the number of neurons, hidden layers, and\n",
    "#iterations in training this basic model and have yet to achieve over an 80% accuracy. As such, the tradeoff heavily favors\n",
    "#the logistic regression model given that it produces nearly the same amount of accuracy in much less time and with a much \n",
    "#greater degree of interpretability. This is not to say that we are constrained by our data, but that a Sequential NN training\n",
    "#upon reviews which have undergone a TF-IDF transformation may not be the best way to approach this problem if we want to\n",
    "#achieve +80% accuracy. We may instead need to use word embedding in combination with an RNN or LSTM NN architecture in order\n",
    "#for our model to ascertain a better understanding of the reviews. However, this requires a much greater investment of resources\n",
    "#so the tradeoff should be weighed judiciously. "
   ]
  }
 ],
 "metadata": {
  "kernelspec": {
   "display_name": "Python 3 (ipykernel)",
   "language": "python",
   "name": "python3"
  },
  "language_info": {
   "codemirror_mode": {
    "name": "ipython",
    "version": 3
   },
   "file_extension": ".py",
   "mimetype": "text/x-python",
   "name": "python",
   "nbconvert_exporter": "python",
   "pygments_lexer": "ipython3",
   "version": "3.10.9"
  }
 },
 "nbformat": 4,
 "nbformat_minor": 5
}
